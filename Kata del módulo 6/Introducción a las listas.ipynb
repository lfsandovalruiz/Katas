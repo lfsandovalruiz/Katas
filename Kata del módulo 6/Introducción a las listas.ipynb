{
 "cells": [
  {
   "cell_type": "markdown",
   "metadata": {},
   "source": [
    "# Ejercicio1: Crear y usar listas de Python"
   ]
  },
  {
   "cell_type": "code",
   "execution_count": 3,
   "metadata": {},
   "outputs": [
    {
     "name": "stdout",
     "output_type": "stream",
     "text": [
      "Número de planetas: 9\n",
      "Último planeta:  Pluto\n"
     ]
    }
   ],
   "source": [
    "planets = ['Mercury', 'Venus', 'Earth', 'Mars', 'Jupiter', 'Saturn', 'Uranus', 'Neptune']\n",
    "planets.append('Pluto')\n",
    "print('Número de planetas:', len(planets))\n",
    "print('Último planeta: ', planets[-1])\n"
   ]
  },
  {
   "cell_type": "markdown",
   "metadata": {},
   "source": [
    "# Ejercicio 2: Trabajando con datos de una lista"
   ]
  },
  {
   "cell_type": "code",
   "execution_count": 2,
   "metadata": {},
   "outputs": [
    {
     "name": "stdout",
     "output_type": "stream",
     "text": [
      "['Mercury', 'Venus', 'Earth']\n"
     ]
    }
   ],
   "source": [
    "# Planetas más cercanos\n",
    "try:\n",
    "  planets = ['Mercury', 'Venus', 'Earth', 'Mars', 'Jupiter', 'Saturn', 'Uranus', 'Neptune']\n",
    "  planeta = input(\"Escribe el nombre de un planeta\").capitalize()\n",
    "  indicePlaneta = planets.index(planeta)\n",
    "  cercanosAlSol = planets[0: indicePlaneta]\n",
    "  print(cercanosAlSol)\n",
    "except ValueError as error:\n",
    "  print(error)"
   ]
  },
  {
   "cell_type": "code",
   "execution_count": 1,
   "metadata": {},
   "outputs": [
    {
     "name": "stdout",
     "output_type": "stream",
     "text": [
      "['Jupiter', 'Saturn', 'Uranus', 'Neptune']\n"
     ]
    }
   ],
   "source": [
    "# Planetas más lejanos\n",
    "try:\n",
    "  planets = ['Mercury', 'Venus', 'Earth', 'Mars', 'Jupiter', 'Saturn', 'Uranus', 'Neptune']\n",
    "  planeta = input(\"Escribe el nombre de un planeta\").capitalize()\n",
    "  indicePlaneta = planets.index(planeta)\n",
    "  cercanosAlSol = planets[indicePlaneta + 1:]\n",
    "  print(cercanosAlSol)\n",
    "except ValueError as error:\n",
    "  print(error)"
   ]
  }
 ],
 "metadata": {
  "interpreter": {
   "hash": "3e3ac819c67c231798a23b4d5521981ffb06001400a324416c010fed3b957193"
  },
  "kernelspec": {
   "display_name": "Python 3.10.2 64-bit",
   "language": "python",
   "name": "python3"
  },
  "language_info": {
   "codemirror_mode": {
    "name": "ipython",
    "version": 3
   },
   "file_extension": ".py",
   "mimetype": "text/x-python",
   "name": "python",
   "nbconvert_exporter": "python",
   "pygments_lexer": "ipython3",
   "version": "3.10.2"
  },
  "orig_nbformat": 4
 },
 "nbformat": 4,
 "nbformat_minor": 2
}
