{
 "cells": [
  {
   "cell_type": "markdown",
   "metadata": {},
   "source": [
    "# Ejercicio: Uso de funciones en Python"
   ]
  },
  {
   "cell_type": "code",
   "execution_count": 54,
   "metadata": {},
   "outputs": [
    {
     "name": "stdout",
     "output_type": "stream",
     "text": [
      "Informe\n",
      "  Promedio de litros: 2.3333333333333335  \n",
      "  Tanque 1: 1 litros\n",
      "  Tanque 2: 2 litros\n",
      "  Tanque 3: 4 litros\n",
      "  Total de litros: 7\n",
      "  \n"
     ]
    }
   ],
   "source": [
    "# informe general\n",
    "def informeCombustible (tanque1, tanque2, tanque3):\n",
    "  return f\"\"\"Informe\n",
    "  Promedio de litros: {promedioCombustible(tanque1, tanque2, tanque3)}  \n",
    "  Tanque 1: {tanque1} litros\n",
    "  Tanque 2: {tanque2} litros\n",
    "  Tanque 3: {tanque3} litros\n",
    "  Total de litros: {tanque1 + tanque2 + tanque3}\n",
    "  \"\"\"\n",
    "\n",
    "# promedio de combustible\n",
    "def promedioCombustible (*valores):\n",
    "  promedio = 0\n",
    "  for valor in valores:\n",
    "    promedio += valor\n",
    "  promedio /= len(valores)\n",
    "  return promedio\n",
    "\n",
    "print(informeCombustible(1, 2, 4))"
   ]
  },
  {
   "cell_type": "markdown",
   "metadata": {},
   "source": [
    "# Ejercicio 2: Trabajo con argumentos de palabra clave"
   ]
  },
  {
   "cell_type": "code",
   "execution_count": 56,
   "metadata": {},
   "outputs": [
    {
     "name": "stdout",
     "output_type": "stream",
     "text": [
      "Informe:\n",
      "  Prelanzamiento: 12pm\n",
      "  Tiempo de vuelo: 12h\n",
      "  Destino: La luna\n",
      "  Tanque exterior: 12L\n",
      "  Tanque interior: 13L\n",
      "  \n",
      "Informe preciso:\n",
      "  Prelanzamiento: 12 pm\n",
      "  Destino: La luna\n",
      "  Tiempo de vuelo: 10 h\n",
      "  tanque1: 20\n",
      "  tanque2: 30\n",
      "  tanque3: 12\n",
      "  \n"
     ]
    }
   ],
   "source": [
    "def informe(prelanzamiento, tiempoVuelo, destino, tanqueEx, tanqueInt):\n",
    "  return f\"\"\"Informe:\n",
    "  Prelanzamiento: {prelanzamiento}\n",
    "  Tiempo de vuelo: {tiempoVuelo}\n",
    "  Destino: {destino}\n",
    "  Tanque exterior: {tanqueEx}\n",
    "  Tanque interior: {tanqueInt}\n",
    "  \"\"\"\n",
    "print(informe(\"12pm\", \"12h\", \"La luna\", \"12L\", \"13L\"))\n",
    "\n",
    "def informePreciso (prelanzamiento,  *tiempoVuelo, destino, **tanques):\n",
    "  reporte =  f\"\"\"Informe preciso:\n",
    "  Prelanzamiento: {prelanzamiento}\n",
    "  Destino: {destino}\n",
    "  Tiempo de vuelo: { sum(tiempoVuelo) } h\n",
    "  \"\"\"\n",
    "  for key, value in tanques.items():\n",
    "    reporte += f\"{key}: {value}\\n  \"\n",
    "  return reporte\n",
    "\n",
    "print(informePreciso(\"12 pm\",1,2,3,4, destino=\"La luna\", tanque1=20, tanque2=30, tanque3= 12))"
   ]
  }
 ],
 "metadata": {
  "interpreter": {
   "hash": "3e3ac819c67c231798a23b4d5521981ffb06001400a324416c010fed3b957193"
  },
  "kernelspec": {
   "display_name": "Python 3.10.2 64-bit",
   "language": "python",
   "name": "python3"
  },
  "language_info": {
   "codemirror_mode": {
    "name": "ipython",
    "version": 3
   },
   "file_extension": ".py",
   "mimetype": "text/x-python",
   "name": "python",
   "nbconvert_exporter": "python",
   "pygments_lexer": "ipython3",
   "version": "3.10.2"
  },
  "orig_nbformat": 4
 },
 "nbformat": 4,
 "nbformat_minor": 2
}
