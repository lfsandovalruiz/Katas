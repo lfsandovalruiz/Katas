{
 "cells": [
  {
   "cell_type": "markdown",
   "metadata": {},
   "source": [
    "# Ejercicio 1: Transformar cadenas"
   ]
  },
  {
   "cell_type": "code",
   "execution_count": 44,
   "metadata": {},
   "outputs": [
    {
     "name": "stdout",
     "output_type": "stream",
     "text": [
      "On average, the Moon moves 4cm away from the Earth every year\n",
      "The highest daylight temperature of the Moon is 127 C.\n",
      "\n",
      "\n",
      "The highest daylight temperature of the Moon is 127 Celsius.\n"
     ]
    }
   ],
   "source": [
    "text = \"\"\"Interesting facts about the Moon. The Moon is Earth's only satellite. There are several interesting facts about the Moon and how it affects life here on Earth. \n",
    "On average, the Moon moves 4cm away from the Earth every year. This yearly drift is not significant enough to cause immediate effects on Earth. The highest daylight temperature of the Moon is 127 C.\"\"\"\n",
    "\n",
    "# Quitar salto de línea y dividir\n",
    "textoDividido = text.replace(\"\\n\", \"\").split(\". \")\n",
    "\n",
    "palabrasClave = [\"average\", \"temperature\", \"distance\"]\n",
    "\n",
    "# Buscar palabras clave\n",
    "for division in textoDividido:\n",
    "  for palabra in palabrasClave:\n",
    "    if palabra in division :\n",
    "      print(division)\n",
    "\n",
    "print(\"\\n\")\n",
    "\n",
    "# Reemplazar C por Celsius\n",
    "for division in textoDividido:\n",
    "  if \"C\" in division:\n",
    "    print(division.replace(\"C\", \"Celsius\"))"
   ]
  },
  {
   "cell_type": "markdown",
   "metadata": {},
   "source": [
    "# Ejercicio 2: Formateando Cadenas"
   ]
  },
  {
   "cell_type": "code",
   "execution_count": 71,
   "metadata": {},
   "outputs": [
    {
     "name": "stdout",
     "output_type": "stream",
     "text": [
      "--------------------------------------------------\n",
      "Datos Interesantes Sobre La Luna\n",
      "--------------------------------------------------\n",
      "La Luna es el satélite del planeta Tierra\n",
      "Su gravedas es de 1.6199999999999999 m/s²\n",
      "--------------------------------------------------\n",
      "Datos interesantes sobre Ganímedes\n",
      "--------------------------------------------------\n",
      "Ganímedes es el satélite del planeta Marte \n",
      "Su gravedas es de 1.4300000000000002 m/s²\n"
     ]
    }
   ],
   "source": [
    "# datos plantilla\n",
    "name = \"La Luna\"\n",
    "gravity = 0.00162 # in kms\n",
    "planet = \"Tierra\"\n",
    "\n",
    "titulo = f'{\"-\" * 50}\\nDatos interesantes sobre {name}\\n{\"-\" * 50}'\n",
    "plantilla = f\"\"\"{name} es el satélite del planeta {planet}\n",
    "Su gravedas es de {gravity * 1000} m/s²\"\"\"\n",
    "print(f\"{titulo.title()}\\n{plantilla}\")\n",
    "\n",
    "# datos nueva plantilla\n",
    "planeta = 'Marte '\n",
    "gravedad  = 0.00143\n",
    "nombre = 'Ganímedes'\n",
    "\n",
    "titulo2 = \"{linea}{saltoLinea}Datos interesantes sobre {nombre}{saltoLinea}{linea}\".format(linea=\"-\" * 50, saltoLinea =\"\\n\", nombre=nombre)\n",
    "plantilla2 = \"\"\"{nombre} es el satélite del planeta {planeta}\n",
    "Su gravedas es de {gravedad} m/s²\"\"\".format(nombre=nombre, planeta=planeta, gravedad = gravedad * 1000)\n",
    "print(titulo2 + \"\\n\" + plantilla2)\n",
    "\n"
   ]
  }
 ],
 "metadata": {
  "interpreter": {
   "hash": "3e3ac819c67c231798a23b4d5521981ffb06001400a324416c010fed3b957193"
  },
  "kernelspec": {
   "display_name": "Python 3.10.2 64-bit",
   "language": "python",
   "name": "python3"
  },
  "language_info": {
   "codemirror_mode": {
    "name": "ipython",
    "version": 3
   },
   "file_extension": ".py",
   "mimetype": "text/x-python",
   "name": "python",
   "nbconvert_exporter": "python",
   "pygments_lexer": "ipython3",
   "version": "3.10.2"
  },
  "orig_nbformat": 4
 },
 "nbformat": 4,
 "nbformat_minor": 2
}
