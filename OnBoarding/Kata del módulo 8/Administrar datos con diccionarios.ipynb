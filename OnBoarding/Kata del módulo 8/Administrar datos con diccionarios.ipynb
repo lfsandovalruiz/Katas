{
 "cells": [
  {
   "cell_type": "markdown",
   "metadata": {},
   "source": [
    "# Ejercicio 1: Creación de diccionarios de Python"
   ]
  },
  {
   "cell_type": "code",
   "execution_count": 3,
   "metadata": {},
   "outputs": [
    {
     "name": "stdout",
     "output_type": "stream",
     "text": [
      "Nombre del planeta: Mars, lunas: 2\n",
      "Circunferencia polar de Mars: 6752\n"
     ]
    }
   ],
   "source": [
    "planet = {\n",
    "  \"name\": \"Mars\",\n",
    "  \"moons\": 2\n",
    "}\n",
    "\n",
    "print(f'Nombre del planeta: {planet[\"name\"]}, lunas: {planet[\"moons\"]}')\n",
    "\n",
    "planet[\"circunferencia (km)\"] = {\n",
    "  \"polar\": 6752,\n",
    "  \"equatorial\": 6792\n",
    "}\n",
    "\n",
    "print(f'Circunferencia polar de {planet[\"name\"]}: {planet[\"circunferencia (km)\"][\"polar\"]}')\n",
    "\n"
   ]
  },
  {
   "cell_type": "markdown",
   "metadata": {},
   "source": [
    "## Ejercicio 2: Programación dinámica con diccionarios"
   ]
  },
  {
   "cell_type": "code",
   "execution_count": 15,
   "metadata": {},
   "outputs": [
    {
     "name": "stdout",
     "output_type": "stream",
     "text": [
      "Número de lunas: 214\n",
      "Promedio de lunas por planeta: 17.833333333333332\n"
     ]
    }
   ],
   "source": [
    "planet_moons = {\n",
    "    'mercury': 0,\n",
    "    'venus': 0,\n",
    "    'earth': 1,\n",
    "    'mars': 2,\n",
    "    'jupiter': 79,\n",
    "    'saturn': 82,\n",
    "    'uranus': 27,\n",
    "    'neptune': 14,\n",
    "    'pluto': 5,\n",
    "    'haumea': 2,\n",
    "    'makemake': 1,\n",
    "    'eris': 1\n",
    "}\n",
    "\n",
    "moons = planet_moons.values()\n",
    "planets = len(planet_moons.keys())\n",
    "\n",
    "numeroLunas = 0\n",
    "\n",
    "for value in moons:\n",
    "  numeroLunas += value\n",
    "print(f\"Número de lunas: {numeroLunas}\")\n",
    "\n",
    "print(f\"Promedio de lunas por planeta: {numeroLunas/planets}\")\n"
   ]
  }
 ],
 "metadata": {
  "interpreter": {
   "hash": "3e3ac819c67c231798a23b4d5521981ffb06001400a324416c010fed3b957193"
  },
  "kernelspec": {
   "display_name": "Python 3.10.2 64-bit",
   "language": "python",
   "name": "python3"
  },
  "language_info": {
   "codemirror_mode": {
    "name": "ipython",
    "version": 3
   },
   "file_extension": ".py",
   "mimetype": "text/x-python",
   "name": "python",
   "nbconvert_exporter": "python",
   "pygments_lexer": "ipython3",
   "version": "3.10.2"
  },
  "orig_nbformat": 4
 },
 "nbformat": 4,
 "nbformat_minor": 2
}
