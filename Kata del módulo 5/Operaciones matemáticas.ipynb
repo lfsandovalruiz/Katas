{
 "cells": [
  {
   "cell_type": "markdown",
   "metadata": {},
   "source": [
    "# Ejercicio1 - Utilizar operadores aritméticos"
   ]
  },
  {
   "cell_type": "code",
   "execution_count": 23,
   "metadata": {},
   "outputs": [
    {
     "name": "stdout",
     "output_type": "stream",
     "text": [
      "Distancia en km entre la tierra y Júiter: 628,949,330\n",
      "Distancia en mi entre la tierra y Júiter: 390,577,533.93\n"
     ]
    }
   ],
   "source": [
    "dTierra = 149597870\n",
    "dJupiter = 778547200\n",
    "\n",
    "distancia = abs(dTierra - dJupiter)\n",
    "\n",
    "print(\"Distancia en km entre la tierra y Júiter: {:,}\".format(distancia))\n",
    "print(\"Distancia en mi entre la tierra y Júiter: {:,}\".format(distancia * 0.621))"
   ]
  },
  {
   "cell_type": "markdown",
   "metadata": {},
   "source": [
    "# Ejercicio 2: convierte cadenas en números y usa valores absolutos"
   ]
  },
  {
   "cell_type": "code",
   "execution_count": 31,
   "metadata": {},
   "outputs": [
    {
     "name": "stdout",
     "output_type": "stream",
     "text": [
      "Distancia en km entre la tierra y Júiter: 50,300,000\n",
      "Distancia en mi entre la tierra y Júiter: 31,236,300.0\n"
     ]
    }
   ],
   "source": [
    "dMercurio = int(input(\"Distancia entre mercurio y el sol\"))\n",
    "dVenus = int(input(\"Distancia entre Venus y el sol\"))\n",
    "\n",
    "distancia = abs(dMercurio - dVenus)\n",
    "\n",
    "print(f\"Distancia en km entre la tierra y Júiter: {distancia:,}\")\n",
    "print(f\"Distancia en mi entre la tierra y Júiter: {distancia * 0.621:,}\")\n",
    "\n",
    "\n"
   ]
  }
 ],
 "metadata": {
  "interpreter": {
   "hash": "3e3ac819c67c231798a23b4d5521981ffb06001400a324416c010fed3b957193"
  },
  "kernelspec": {
   "display_name": "Python 3.10.2 64-bit",
   "language": "python",
   "name": "python3"
  },
  "language_info": {
   "codemirror_mode": {
    "name": "ipython",
    "version": 3
   },
   "file_extension": ".py",
   "mimetype": "text/x-python",
   "name": "python",
   "nbconvert_exporter": "python",
   "pygments_lexer": "ipython3",
   "version": "3.10.2"
  },
  "orig_nbformat": 4
 },
 "nbformat": 4,
 "nbformat_minor": 2
}
